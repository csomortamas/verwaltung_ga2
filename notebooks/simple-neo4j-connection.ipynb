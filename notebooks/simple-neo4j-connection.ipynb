{
 "cells": [
  {
   "attachments": {},
   "cell_type": "markdown",
   "metadata": {},
   "source": [
    "# Simple notebook with connection example\n",
    "\n",
    "This notebook should illustrate how to connect to the Neo4j database, query information and transform it into Python Objects for further processing."
   ]
  },
  {
   "cell_type": "code",
   "execution_count": 10,
   "metadata": {},
   "outputs": [],
   "source": [
    "# These are jupyter specific settings. Keep these when you import your scripts from a relative folder\n",
    "%load_ext autoreload\n",
    "%autoreload 2\n",
    "\n",
    "%config Application.log_level='INFO'"
   ]
  },
  {
   "cell_type": "code",
   "execution_count": 15,
   "metadata": {},
   "outputs": [],
   "source": [
    "import pandas as pd\n",
    "import numpy as np\n",
    "\n",
    "from neo4j import GraphDatabase"
   ]
  },
  {
   "attachments": {},
   "cell_type": "markdown",
   "metadata": {},
   "source": [
    "### Connection details\n",
    "\n",
    "__BE AWARE TO USE THE CORRECT USERNAME AND APPLICATION PORTS!__"
   ]
  },
  {
   "cell_type": "code",
   "execution_count": 12,
   "metadata": {},
   "outputs": [],
   "source": [
    "uri, user, password = \"bolt://localhost:7691\", \"username\", \"password\"\n",
    "driver = GraphDatabase.driver(uri, auth=(user, password))"
   ]
  },
  {
   "attachments": {},
   "cell_type": "markdown",
   "metadata": {},
   "source": [
    "# Queries\n",
    "### I. Directed and undirected queries for relationships"
   ]
  },
  {
   "cell_type": "code",
   "execution_count": null,
   "metadata": {},
   "outputs": [],
   "source": [
    "with driver.session() as session:\n",
    "    query = \"\"\"\n",
    "        MATCH (n:Node {id:32591, time:300}) RETURN size((n)--())\n",
    "        \"\"\"\n",
    "    result = session.run(query)\n",
    "    data = pd.DataFrame(result.data())\n",
    "print(data)\n",
    "\n",
    "with driver.session() as session:\n",
    "    query = \"\"\"\n",
    "        MATCH (n:Node {id:32591, time:300}) RETURN size((n)-->())\n",
    "        \"\"\"\n",
    "    result = session.run(query)\n",
    "    data = pd.DataFrame(result.data())\n",
    "print(data)\n",
    "\n",
    "with driver.session() as session:\n",
    "    query = \"\"\"\n",
    "        MATCH (n:Node {id:32591, time:300}) RETURN size((n)--(:Node))\n",
    "        \"\"\"\n",
    "    result = session.run(query)\n",
    "    data = pd.DataFrame(result.data())\n",
    "print(data)"
   ]
  },
  {
   "attachments": {},
   "cell_type": "markdown",
   "metadata": {},
   "source": [
    "### II. Query standalone Loops from a specific time as parameter"
   ]
  },
  {
   "cell_type": "code",
   "execution_count": null,
   "metadata": {},
   "outputs": [],
   "source": [
    "with driver.session() as session:\n",
    "    query = \"\"\"\n",
    "        MATCH (n:Loop)\n",
    "        WHERE n.time = 50\n",
    "        RETURN n\n",
    "        \"\"\"\n",
    "    result = session.run(query)\n",
    "    data = pd.DataFrame(result.data())\n",
    "print(data)"
   ]
  },
  {
   "attachments": {},
   "cell_type": "markdown",
   "metadata": {},
   "source": [
    "### III. Query Loops and their direct neighbours\n",
    "\n",
    "This query is probably not a good idea, as it returns all the Nodes that all the Loops consist of. This results in more Nodes than exist in a single state, because some nodes are assigned to two or more Loops and these duplicates are also returned."
   ]
  },
  {
   "cell_type": "code",
   "execution_count": null,
   "metadata": {},
   "outputs": [],
   "source": [
    "with driver.session() as session:\n",
    "    query = \"\"\"\n",
    "        MATCH (n:Loop)--(m)\n",
    "        WHERE n.time = 50\n",
    "        RETURN distinct n, count(m)\n",
    "        \"\"\"\n",
    "    result = session.run(query)\n",
    "    data = pd.DataFrame(result.data())\n",
    "print(data)"
   ]
  },
  {
   "attachments": {},
   "cell_type": "markdown",
   "metadata": {},
   "source": [
    "### II. Query Loops and their connected Junctions and neighbour Loops\n",
    "\n",
    "This following query is better and concentrates only on the \"meta nodes\" that are connected to a loop. The size of our result set is drastically smaller and the returned neighbours are far more likely to be useful for our collective matching."
   ]
  },
  {
   "cell_type": "code",
   "execution_count": null,
   "metadata": {},
   "outputs": [],
   "source": [
    "with driver.session() as session:\n",
    "    query = \"\"\"\n",
    "        MATCH (n:Loop)--(m)--(l)\n",
    "        WHERE n.time = 50 and (l:Loop)\n",
    "        RETURN n.id, collect(distinct l.id)\n",
    "        \"\"\"\n",
    "    result = session.run(query)\n",
    "    data = pd.DataFrame(result.data())\n",
    "print(data)"
   ]
  }
 ],
 "metadata": {
  "kernelspec": {
   "display_name": "project_template-54Ojekhq",
   "language": "python",
   "name": "python3"
  },
  "language_info": {
   "codemirror_mode": {
    "name": "ipython",
    "version": 3
   },
   "file_extension": ".py",
   "mimetype": "text/x-python",
   "name": "python",
   "nbconvert_exporter": "python",
   "pygments_lexer": "ipython3",
   "version": "3.10.6"
  },
  "orig_nbformat": 4
 },
 "nbformat": 4,
 "nbformat_minor": 2
}
